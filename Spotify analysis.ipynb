{
 "cells": [
  {
   "cell_type": "code",
   "execution_count": null,
   "metadata": {},
   "outputs": [],
   "source": [
    "import pandas as pd\n",
    "import numpy as np\n",
    "import matplotlib.pyplot as plt\n",
    "import seaborn as sns\n",
    "\n",
    "import json\n",
    "\n",
    "import plotly.express as px\n",
    "from plotly.offline import download_plotlyjs, init_notebook_mode, plot, iplot\n",
    "init_notebook_mode(connected=True)\n",
    "\n",
    "import plotly.graph_objects as go"
   ]
  },
  {
   "cell_type": "code",
   "execution_count": null,
   "metadata": {},
   "outputs": [],
   "source": [
    "with open('StreamingHistory0.json', encoding='utf8') as f:\n",
    "    data = json.load(f)\n",
    "\n",
    "print(data[:5])"
   ]
  },
  {
   "cell_type": "code",
   "execution_count": null,
   "metadata": {},
   "outputs": [],
   "source": [
    "history_1 = pd.DataFrame()\n",
    "\n",
    "def extract_json_value(column_name):\n",
    "    \n",
    "    return [i[column_name] for i in data]\n",
    "\n",
    "history_1['artist_name'] = extract_json_value('artistName')\n",
    "history_1['end_time'] = extract_json_value('endTime')\n",
    "history_1['ms_played'] = extract_json_value('msPlayed')\n",
    "history_1['track_name'] = extract_json_value('trackName')"
   ]
  },
  {
   "cell_type": "code",
   "execution_count": null,
   "metadata": {},
   "outputs": [],
   "source": [
    "history_1.info()"
   ]
  },
  {
   "cell_type": "code",
   "execution_count": null,
   "metadata": {},
   "outputs": [],
   "source": [
    "history_2 = pd.DataFrame()"
   ]
  },
  {
   "cell_type": "code",
   "execution_count": null,
   "metadata": {},
   "outputs": [],
   "source": [
    "history= history_1.append(history_2)"
   ]
  },
  {
   "cell_type": "code",
   "execution_count": null,
   "metadata": {},
   "outputs": [],
   "source": [
    "history.head().to_excel('hist.xlsx')"
   ]
  },
  {
   "cell_type": "code",
   "execution_count": null,
   "metadata": {},
   "outputs": [],
   "source": [
    "history['end_time'] = pd.to_datetime(history['end_time'])\n",
    "history.head()"
   ]
  },
  {
   "cell_type": "code",
   "execution_count": null,
   "metadata": {},
   "outputs": [],
   "source": [
    "history['minutes_played'] = history.ms_played.divide(60000)\n",
    "history.drop('ms_played', axis=1, inplace=True)\n",
    "history.head()"
   ]
  },
  {
   "cell_type": "code",
   "execution_count": null,
   "metadata": {},
   "outputs": [],
   "source": [
    "most_played_artists_by_count = history.groupby(by='artist_name')['track_name'].count().sort_values(ascending=False)[:20]\n",
    "\n",
    "print('The most popular artists by number of times their songs were played were: \\n\\n{}'.format(most_played_artists_by_count))"
   ]
  },
  {
   "cell_type": "code",
   "execution_count": null,
   "metadata": {},
   "outputs": [],
   "source": [
    "colors = ['RGB(103, 0, 31)','RGB(178, 24, 43)','RGB(214, 96, 77)','RGB(244, 165, 130)','RGB(253, 219, 199)',\n",
    "          'RGB(247, 247, 247)','RGB(209, 229, 240)','RGB(146, 197, 222)','RGB(67, 147, 195)','RGB(33, 102, 172)',\n",
    "          'RGB(5, 48, 97)']\n",
    "\n",
    "\n",
    "layout = go.Layout(\n",
    "    title='Popularity Of Artists By Number Of Times Their Song Was Played',\n",
    "    yaxis= dict(\n",
    "        title=\"Number of Times Played\",\n",
    "        gridcolor='rgb(255, 255, 255)',\n",
    "        zerolinewidth=1,\n",
    "        ticklen=5,\n",
    "        gridwidth=2,\n",
    "        titlefont=dict(size=15)),\n",
    "    xaxis=dict(title=\"Artist Name\"))\n",
    "\n",
    "\n",
    "fig = go.Figure(data=[go.Bar(x=most_played_artists_by_count.index,\n",
    "                             y=most_played_artists_by_count,\n",
    "                             textposition='auto',\n",
    "                             opacity=1,\n",
    "                             marker_color=colors)],layout = layout)\n",
    "\n",
    "fig.show()\n"
   ]
  },
  {
   "cell_type": "code",
   "execution_count": null,
   "metadata": {},
   "outputs": [],
   "source": [
    "history['day'] = [d.date() for d in history['end_time']]\n",
    "history['time'] = [d.time() for d in history['end_time']]\n",
    "history.drop('end_time', axis=1, inplace=True)\n",
    "history.head()"
   ]
  },
  {
   "cell_type": "code",
   "execution_count": null,
   "metadata": {},
   "outputs": [],
   "source": [
    "day = history.groupby(by=['day'], as_index=False).sum()\n",
    "day.head()"
   ]
  },
  {
   "cell_type": "code",
   "execution_count": null,
   "metadata": {},
   "outputs": [],
   "source": [
    "data  = go.Scatter(\n",
    "                    x = day['day'],\n",
    "                    y = day['minutes_played'],\n",
    "                    mode = \"lines+markers\",\n",
    "                    marker = dict(color = 'rgba(80, 26, 80, 0.8)'),\n",
    "                    text= day['day'])\n",
    "\n",
    "layout = dict(title = 'Days vs Minutes played',\n",
    "              xaxis= dict(title= 'Days',ticklen= 5,zeroline= False),\n",
    "              yaxis= dict(title= 'Minutes Played',ticklen= 5,zeroline= False)\n",
    "             )\n",
    "fig = go.Figure(data=data,layout = layout)\n",
    "fig.write_html('day.html')\n",
    "fig.show()"
   ]
  },
  {
   "cell_type": "code",
   "execution_count": null,
   "metadata": {},
   "outputs": [],
   "source": [
    "date = history_1.append(history_2)\n",
    "date['minutes_played'] = date.ms_played.divide(60000)\n",
    "date.drop('ms_played', axis=1, inplace=True)\n",
    "\n",
    "date['day'] = pd.DatetimeIndex(date['end_time']).day_name()\n",
    "\n",
    "date.head()"
   ]
  },
  {
   "cell_type": "code",
   "execution_count": null,
   "metadata": {},
   "outputs": [],
   "source": [
    "date = date.groupby(by=['day'], as_index=False).sum()\n",
    "date.head(6)"
   ]
  },
  {
   "cell_type": "code",
   "execution_count": null,
   "metadata": {},
   "outputs": [],
   "source": [
    "fig = px.pie(date, names=\"day\", values=\"minutes_played\", color_discrete_sequence=px.colors.sequential.RdBu)\n",
    "\n",
    "fig.show()"
   ]
  },
  {
   "cell_type": "code",
   "execution_count": null,
   "metadata": {},
   "outputs": [],
   "source": [
    "artist = history_1.append(history_2)\n",
    "artist['minutes_played'] = artist.ms_played.divide(60000)\n",
    "artist.drop('ms_played', axis=1, inplace=True)\n",
    "artist.drop('end_time', axis=1, inplace=True)\n",
    "\n",
    "artist.head()"
   ]
  },
  {
   "cell_type": "code",
   "execution_count": null,
   "metadata": {},
   "outputs": [],
   "source": [
    "artist_1 = artist.drop_duplicates(subset = [\"track_name\"])\n",
    "artist_1.drop('minutes_played', axis=1, inplace=True)\n",
    "artist_1"
   ]
  },
  {
   "cell_type": "code",
   "execution_count": null,
   "metadata": {},
   "outputs": [],
   "source": [
    "artist_1 = artist_1.groupby(['artist_name'], as_index = False).count()\n",
    "\n",
    "artist_1"
   ]
  },
  {
   "cell_type": "code",
   "execution_count": null,
   "metadata": {},
   "outputs": [],
   "source": [
    "artist_1 = artist_1.rename(columns={\"track_name\": \"unique_songs\"})\n",
    "artist_1.head()"
   ]
  },
  {
   "cell_type": "code",
   "execution_count": null,
   "metadata": {},
   "outputs": [],
   "source": [
    "time = artist.groupby(['artist_name'], as_index=False).sum()\n",
    "\n",
    "time.head()"
   ]
  },
  {
   "cell_type": "code",
   "execution_count": null,
   "metadata": {},
   "outputs": [],
   "source": [
    "top_artist = pd.merge(artist_1, time, on='artist_name')\n",
    "top_artist = top_artist.sort_values(by='unique_songs', ascending=False).head(15)\n",
    "top_artist"
   ]
  },
  {
   "cell_type": "code",
   "execution_count": null,
   "metadata": {},
   "outputs": [],
   "source": [
    "fig = px.scatter(top_artist, x=\"artist_name\", y=\"minutes_played\", title='Total amount of time spent listening to each artist', size=\"unique_songs\", color_discrete_sequence=px.colors.sequential.RdBu)\n",
    "\n",
    "fig.show()\n"
   ]
  },
  {
   "cell_type": "code",
   "execution_count": null,
   "metadata": {},
   "outputs": [],
   "source": [
    "song = history_1.append(history_2)\n",
    "song['minutes_played'] = song.ms_played.divide(60000)\n",
    "song.drop('ms_played', axis=1, inplace=True)\n",
    "song"
   ]
  },
  {
   "cell_type": "code",
   "execution_count": null,
   "metadata": {},
   "outputs": [],
   "source": [
    "song = song.groupby(['track_name'], as_index=False).sum()\n",
    "song = song.sort_values(by='minutes_played', ascending=False)\n",
    "song"
   ]
  },
  {
   "cell_type": "code",
   "execution_count": null,
   "metadata": {},
   "outputs": [],
   "source": [
    "\n",
    "song_artist = history_1.append(history_2)\n",
    "song_artist = song_artist.sort_values(by='track_name', ascending=False)\n",
    "song_artist.drop('end_time', axis=1, inplace=True)\n",
    "song_artist.drop('ms_played', axis=1, inplace=True)\n",
    "song_artist.head(10)"
   ]
  },
  {
   "cell_type": "code",
   "execution_count": null,
   "metadata": {},
   "outputs": [],
   "source": [
    "song_artist = song_artist.drop_duplicates(subset = [\"track_name\"])\n",
    "song_artist\n"
   ]
  },
  {
   "cell_type": "code",
   "execution_count": null,
   "metadata": {},
   "outputs": [],
   "source": [
    "\n",
    "song = pd.merge(song_artist, song, on='track_name')\n",
    "song = song.sort_values(by='minutes_played', ascending=False)\n",
    "song"
   ]
  },
  {
   "cell_type": "code",
   "execution_count": null,
   "metadata": {},
   "outputs": [],
   "source": [
    "song = song.sort_values(by='minutes_played', ascending=False)\n",
    "song.reset_index(inplace = True, drop = True) \n",
    "songs = song.drop([1,3,4,5,7,8,10,28,40,49]).head(50)\n",
    "songs"
   ]
  },
  {
   "cell_type": "code",
   "execution_count": null,
   "metadata": {},
   "outputs": [],
   "source": [
    "songs.reset_index(inplace = True, drop = True)\n",
    "songs"
   ]
  },
  {
   "cell_type": "code",
   "execution_count": null,
   "metadata": {},
   "outputs": [],
   "source": [
    "fig = px.bar(songs, x=\"track_name\", y=\"minutes_played\", title = 'Most Listened To Songs', color = \"artist_name\", color_discrete_sequence=px.colors.sequential.RdBu)\n",
    "fig.show()"
   ]
  },
  {
   "cell_type": "code",
   "execution_count": null,
   "metadata": {},
   "outputs": [],
   "source": [
    "my_songs = pd.read_csv(\"appusongs.csv\", encoding= 'unicode_escape')\n",
    "my_songs.head()"
   ]
  },
  {
   "cell_type": "code",
   "execution_count": null,
   "metadata": {},
   "outputs": [],
   "source": [
    "top_5 = my_songs.head(6)\n",
    "top_5.drop('key', axis=1, inplace=True)\n",
    "top_5.drop('mode', axis=1, inplace=True)\n",
    "top_5.drop('liveness', axis=1, inplace=True)\n",
    "top_5.drop('valence', axis=1, inplace=True)\n",
    "top_5.drop('tempo', axis=1, inplace=True)\n",
    "top_5.drop('duration_ms', axis=1, inplace=True)\n",
    "top_5.drop('time_signature', axis=1, inplace=True)\n",
    "top_5.drop('track_id', axis=1, inplace=True)\n",
    "top_5.drop('album', axis=1, inplace=True)\n",
    "top_5.drop('artist', axis=1, inplace=True)\n",
    "top_5"
   ]
  },
  {
   "cell_type": "code",
   "execution_count": null,
   "metadata": {},
   "outputs": [],
   "source": [
    "import plotly.graph_objects as go\n",
    "\n",
    "categories = ['danceability','energy',\n",
    "              'loudness', 'speechiness', 'instrumentalness']\n",
    "\n",
    "fig = go.Figure()\n",
    "\n",
    "fig.add_trace(go.Scatterpolar(\n",
    "      r=[0.527,0.835,-5.298,0.0433,0.0000],\n",
    "      theta=categories,\n",
    "      fill='toself',\n",
    "      name='The Nights'\n",
    "))\n",
    "\n",
    "fig.add_trace(go.Scatterpolar(\n",
    "      r=[0.421,0.407,-7.445,0.0267,0.000961],\n",
    "      theta=categories,\n",
    "      fill='toself',\n",
    "      name='A Thousand Years'\n",
    "))\n",
    "\n",
    "\n",
    "fig.add_trace(go.Scatterpolar(\n",
    "      r=[0.509,0.689,-4.929,0.1020,0.00000],\n",
    "      theta=categories,\n",
    "      fill='toself',\n",
    "      name='On my way'\n",
    "))\n",
    "fig.add_trace(go.Scatterpolar(\n",
    "      r=[0.448,0.784,-3.686,0.0627,0.000108],\n",
    "      theta=categories,\n",
    "      fill='toself',\n",
    "      name='Radioactive'\n",
    "))\n",
    "fig.add_trace(go.Scatterpolar(\n",
    "      r=[0.647,0.656,-8.632,0.0354,0.000163],\n",
    "      theta=categories,\n",
    "      fill='toself',\n",
    "      name='Phir se Ud Chala'\n",
    "))\n",
    "\n",
    "fig.update_layout(\n",
    "    title = \"Diversity in audio features of top 3 songs\",\n",
    "    polar=dict(\n",
    "    radialaxis=dict(\n",
    "      visible=True,\n",
    "      range=[-10, 1]\n",
    "    )),\n",
    "  showlegend=True)\n",
    "fig.write_image('Songdiversity.jpeg')\n",
    "fig.show()"
   ]
  },
  {
   "cell_type": "code",
   "execution_count": null,
   "metadata": {},
   "outputs": [],
   "source": [
    "\n",
    "my_songs.mean(axis=0)\n",
    "avg_my_songs = pd.DataFrame({\"danceability\":[0.589500], \n",
    "                             \"energy\":[0.660060],\n",
    "                             \"key\":[4.420000],\n",
    "                             \"loudness\":[-6.293780],\n",
    "                             \"mode\":[0.500000],\n",
    "                             \"speechiness\":[0.080354],\n",
    "                             \"instrumentalness\":[0.022151],\n",
    "                             \"liveness\":[0.206788],\n",
    "                             \"valence\":[0.453488],\n",
    "                             \"tempo\":[127.639420],\n",
    "                             \"duration_ms\":[235277.380000],\n",
    "                             \"time_signature\":[3.940000]})\n",
    "avg_my_songs"
   ]
  },
  {
   "cell_type": "code",
   "execution_count": null,
   "metadata": {},
   "outputs": [],
   "source": [
    "v  = my_songs['valence']\n",
    "\n",
    "data = go.Histogram(\n",
    "    x=v,\n",
    "    opacity=0.75,\n",
    "    name = \"song\",\n",
    "    marker=dict(color='rgba(171, 50, 96, 0.6)'))\n",
    "layout = go.Layout(barmode='overlay',\n",
    "                   title='Song Mood',\n",
    "                   xaxis=dict(title='Happiness-->'),\n",
    "                   yaxis=dict( title='Count'),\n",
    ")\n",
    "fig = go.Figure(data=data, layout=layout)\n",
    "fig.show()"
   ]
  },
  {
   "cell_type": "code",
   "execution_count": null,
   "metadata": {},
   "outputs": [],
   "source": [
    "less_count, more_count, middle_count = 0, 0, 0\n",
    "  \n",
    "# iterating each number in list \n",
    "for num in v: \n",
    "      \n",
    "    # checking condition \n",
    "    if num >= 0 and num <0.5: \n",
    "        less_count += 1\n",
    "        \n",
    "    elif num >=0.5 and num < 0.6:\n",
    "        middle_count += 1\n",
    "  \n",
    "    else: \n",
    "        more_count += 1\n",
    "          \n",
    "print(\"Less than 0.5: \", less_count) \n",
    "print(\"More than 0.6: \", more_count)\n",
    "print(\"Between 0.5 and 0.6: \", middle_count)"
   ]
  },
  {
   "cell_type": "code",
   "execution_count": null,
   "metadata": {},
   "outputs": [],
   "source": [
    "\n",
    "from matplotlib_venn import venn2, venn2_circles, venn2_unweighted\n",
    "from matplotlib_venn import venn3, venn3_circles\n",
    "from matplotlib import pyplot as plt\n",
    "%matplotlib inline\n",
    "\n",
    "venn2_unweighted(subsets = (28, 15, 7), set_labels = ('Low Spirit', 'High Spirit'), set_colors=('firebrick','skyblue'), alpha = 0.5);\n",
    "plt.savefig('test.png')"
   ]
  },
  {
   "cell_type": "code",
   "execution_count": null,
   "metadata": {},
   "outputs": [],
   "source": [
    "fig = px.box(my_songs, y=\"tempo\")\n",
    "fig.show()\n",
    "fig.write_html('tempo.html')"
   ]
  },
  {
   "cell_type": "code",
   "execution_count": null,
   "metadata": {},
   "outputs": [],
   "source": [
    "sr = pd.read_csv('sreelekshmi_songs.csv', encoding= 'unicode_escape')\n",
    "sr.head()"
   ]
  },
  {
   "cell_type": "code",
   "execution_count": null,
   "metadata": {},
   "outputs": [],
   "source": [
    "sr.mean(axis=0)"
   ]
  },
  {
   "cell_type": "code",
   "execution_count": null,
   "metadata": {},
   "outputs": [],
   "source": [
    "avg_sr = pd.DataFrame({\"danceability\":[56.77/100], \n",
    "                             \"energy\":[44.12/100],\n",
    "                             \"key\":[4.588235],\n",
    "                             \"loudness\":[-9.802235],\n",
    "                             \"mode\":[0.901961],\n",
    "                             \"speechiness\":[4.0767/100],\n",
    "                             \"instrumentalness\":[0.006681],\n",
    "                             \"liveness\":[17.4045/100],\n",
    "                             \"valence\":[54.60/100],\n",
    "                             \"tempo\":[114.163],\n",
    "                             \"duration_ms\":[263142.215686],\n",
    "                             \"time_signature\":[3.725]})\n",
    "\n",
    "avg_sr['Who'] = 'Sreelekshmy'\n",
    "\n",
    "avg_sr"
   ]
  },
  {
   "cell_type": "code",
   "execution_count": null,
   "metadata": {},
   "outputs": [],
   "source": [
    "avg_my_songs['Who'] = 'Appu'\n",
    "avg_my_songs"
   ]
  },
  {
   "cell_type": "code",
   "execution_count": null,
   "metadata": {},
   "outputs": [],
   "source": [
    "average = avg_sr.append(avg_my_songs)\n",
    "average"
   ]
  },
  {
   "cell_type": "code",
   "execution_count": null,
   "metadata": {},
   "outputs": [],
   "source": [
    "average.to_excel('song12.xslx', index=True)\n",
    "#You have to change this excel file t csv manually with columns as feature, me, Your friends name "
   ]
  },
  {
   "cell_type": "code",
   "execution_count": null,
   "metadata": {},
   "outputs": [],
   "source": [
    "average_comp = pd.read_csv('song12.csv', encoding= 'unicode_escape')\n",
    "average_comp"
   ]
  },
  {
   "cell_type": "code",
   "execution_count": null,
   "metadata": {},
   "outputs": [],
   "source": [
    "\n",
    "average_compare = average_comp.drop(average_comp.index[9])\n",
    "average_compare = average_compare.drop(average_compare.index[2])\n",
    "compare_features = average_compare.drop(average_compare.index[2])\n",
    "compare_features"
   ]
  },
  {
   "cell_type": "code",
   "execution_count": null,
   "metadata": {},
   "outputs": [],
   "source": [
    "compare_features = compare_features.replace(['acousticness'])"
   ]
  },
  {
   "cell_type": "code",
   "execution_count": null,
   "metadata": {},
   "outputs": [],
   "source": [
    "trace1=go.Bar(x=compare_features['Feature'],y=compare_features['Sreelekshmy'],marker=dict(color='skyblue',opacity=1),name=\"Sreelekshmy\")\n",
    "trace2=go.Bar(x=compare_features['Feature'],y=compare_features['Appu'],marker=dict(color='darksalmon',opacity=1),name=\"Appu\")\n",
    "\n",
    "data=[trace1,trace2]\n",
    "\n",
    "layout = go.Layout(title=\"My Music Preferences VS Sreelekshmy's\",xaxis=dict(title=\"Features\"),\n",
    "                   barmode=\"group\")\n",
    "\n",
    "fig = go.Figure(data,layout)\n",
    "\n",
    "fig.show()\n",
    "fig.write_image('preference.jpeg')\n"
   ]
  },
  {
   "cell_type": "code",
   "execution_count": null,
   "metadata": {},
   "outputs": [],
   "source": [
    "loudness = pd.DataFrame({\"Who\":['Appu', 'Sreelekshmy'],\"Loudness\":[-6.293780,-9.802235]})\n",
    "loudness"
   ]
  },
  {
   "cell_type": "code",
   "execution_count": null,
   "metadata": {},
   "outputs": [],
   "source": [
    "fig = px.bar(x=loudness['Who'], y=loudness['Loudness'],\n",
    "              labels={\"y\": \"Loudness Index\",\n",
    "                     \"x\": \" \"},\n",
    "              color_discrete_sequence=px.colors.sequential.RdBu, title=\"Loudness Preference\")\n",
    "\n",
    "fig.show()\n",
    "fig.write_image('loudness.jpeg')"
   ]
  },
  {
   "cell_type": "code",
   "execution_count": null,
   "metadata": {},
   "outputs": [],
   "source": [
    "\n",
    "tempo = pd.DataFrame({\"Who\":['Appu', 'Sreelekshmy'],\"Tempo\":[127.639420,114.163000]})\n",
    "tempo"
   ]
  },
  {
   "cell_type": "code",
   "execution_count": null,
   "metadata": {},
   "outputs": [],
   "source": [
    "fig = px.bar(x=loudness['Who'], y=tempo['Tempo'],\n",
    "              labels={\"y\": \"Tempo Index\",\n",
    "                     \"x\": \" \"},\n",
    "              color_discrete_sequence=px.colors.sequential.RdBu, title=\"Tempo Preference\")\n",
    "\n",
    "fig.show()\n",
    "\n"
   ]
  },
  {
   "cell_type": "code",
   "execution_count": null,
   "metadata": {},
   "outputs": [],
   "source": []
  }
 ],
 "metadata": {
  "kernelspec": {
   "display_name": "Python 3",
   "language": "python",
   "name": "python3"
  },
  "language_info": {
   "codemirror_mode": {
    "name": "ipython",
    "version": 3
   },
   "file_extension": ".py",
   "mimetype": "text/x-python",
   "name": "python",
   "nbconvert_exporter": "python",
   "pygments_lexer": "ipython3",
   "version": "3.8.3"
  }
 },
 "nbformat": 4,
 "nbformat_minor": 4
}
